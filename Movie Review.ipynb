{
 "cells": [
  {
   "cell_type": "code",
   "execution_count": 1,
   "metadata": {
    "collapsed": true
   },
   "outputs": [],
   "source": [
    "import pandas\n",
    "movies = pandas.read_csv(\"fandango_score_comparison.csv\")"
   ]
  },
  {
   "cell_type": "code",
   "execution_count": 2,
   "metadata": {
    "collapsed": false
   },
   "outputs": [
    {
     "data": {
      "text/plain": [
       "(array([ 12.,   0.,  27.,   0.,   0.,  41.,   0.,  55.,   0.,  11.]),\n",
       " array([ 3. ,  3.2,  3.4,  3.6,  3.8,  4. ,  4.2,  4.4,  4.6,  4.8,  5. ]),\n",
       " <a list of 10 Patch objects>)"
      ]
     },
     "execution_count": 2,
     "metadata": {},
     "output_type": "execute_result"
    },
    {
     "data": {
      "image/png": "[encoded data removed]",
      "text/plain": [
       "<matplotlib.figure.Figure at 0x7f9690e7b3c8>"
      ]
     },
     "metadata": {},
     "output_type": "display_data"
    }
   ],
   "source": [
    "import matplotlib.pyplot as plt\n",
    "%matplotlib inline\n",
    "plt.hist(movies[\"Fandango_Stars\"])"
   ]
  },
  {
   "cell_type": "code",
   "execution_count": 3,
   "metadata": {
    "collapsed": false
   },
   "outputs": [
    {
     "data": {
      "text/plain": [
       "(array([  1.,   2.,  20.,  14.,   0.,  22.,  27.,  20.,  25.,  15.]),\n",
       " array([ 0.5,  0.9,  1.3,  1.7,  2.1,  2.5,  2.9,  3.3,  3.7,  4.1,  4.5]),\n",
       " <a list of 10 Patch objects>)"
      ]
     },
     "execution_count": 3,
     "metadata": {},
     "output_type": "execute_result"
    },
    {
     "data": {
      "image/png": "[encoded data removed]",
      "text/plain": [
       "<matplotlib.figure.Figure at 0x7f9690e7b470>"
      ]
     },
     "metadata": {},
     "output_type": "display_data"
    }
   ],
   "source": [
    "plt.hist(movies[\"Metacritic_norm_round\"])"
   ]
  },
  {
   "cell_type": "code",
   "execution_count": 4,
   "metadata": {
    "collapsed": false
   },
   "outputs": [
    {
     "name": "stdout",
     "output_type": "stream",
     "text": [
      "4.08904109589\n",
      "2.97260273973\n",
      "0.540385977979\n",
      "0.990960561374\n",
      "4.0\n",
      "3.0\n"
     ]
    }
   ],
   "source": [
    "import numpy\n",
    "\n",
    "f_mean = movies[\"Fandango_Stars\"].mean()\n",
    "m_mean = movies[\"Metacritic_norm_round\"].mean()\n",
    "f_std = movies[\"Fandango_Stars\"].std()\n",
    "m_std = movies[\"Metacritic_norm_round\"].std()\n",
    "f_median = movies[\"Fandango_Stars\"].median()\n",
    "m_median = movies[\"Metacritic_norm_round\"].median()\n",
    "\n",
    "print(f_mean)\n",
    "print(m_mean)\n",
    "print(f_std)\n",
    "print(m_std)\n",
    "print(f_median)\n",
    "print(m_median)"
   ]
  },
  {
   "cell_type": "markdown",
   "metadata": {},
   "source": [
    "Fandango vs Metacritic Methodology\n",
    "Fandango appears to inflate ratings and isn't transparent about how it calculates and aggregates ratings. Metacritic publishes each individual critic rating, and is transparent about how they aggregate them to get a final rating.\n",
    "Fandango vs Metacritic number differences\n",
    "The median metacritic score appears higher than the mean metacritic score because a few very low reviews \"drag down\" the median. The median fandango score is lower than the mean fandango score because a few very high ratings \"drag up\" the mean.\n",
    "Fandango ratings appear clustered between 3 and 5, and have a much narrower random than Metacritic reviews, which go from 0 to 5.\n",
    "Fandango ratings in general appear to be higher than metacritic ratings.\n",
    "These may be due to movie studio influence on Fandango ratings, and the fact that Fandango calculates its ratings in a hidden way."
   ]
  },
  {
   "cell_type": "code",
   "execution_count": 5,
   "metadata": {
    "collapsed": false
   },
   "outputs": [
    {
     "data": {
      "text/plain": [
       "<matplotlib.collections.PathCollection at 0x7f96f4021d68>"
      ]
     },
     "execution_count": 5,
     "metadata": {},
     "output_type": "execute_result"
    },
    {
     "data": {
      "image/png": "[encoded data removed]",
      "text/plain": [
       "<matplotlib.figure.Figure at 0x7f96f40bd438>"
      ]
     },
     "metadata": {},
     "output_type": "display_data"
    }
   ],
   "source": [
    "plt.scatter(movies[\"Metacritic_norm_round\"], movies[\"Fandango_Stars\"])"
   ]
  },
  {
   "cell_type": "code",
   "execution_count": 6,
   "metadata": {
    "collapsed": true
   },
   "outputs": [],
   "source": [
    "movies[\"fm_diff\"] = numpy.abs(movies[\"Metacritic_norm_round\"] - movies[\"Fandango_Stars\"])"
   ]
  },
  {
   "cell_type": "code",
   "execution_count": 7,
   "metadata": {
    "collapsed": false
   },
   "outputs": [
    {
     "data": {
      "text/html": [
       "<div style=\"max-height:1000px;max-width:1500px;overflow:auto;\">\n",
       "<table border=\"1\" class=\"dataframe\">\n",
       "  <thead>\n",
       "    <tr style=\"text-align: right;\">\n",
       "      <th></th>\n",
       "      <th>FILM</th>\n",
       "      <th>RottenTomatoes</th>\n",
       "      <th>RottenTomatoes_User</th>\n",
       "      <th>Metacritic</th>\n",
       "      <th>Metacritic_User</th>\n",
       "      <th>IMDB</th>\n",
       "      <th>Fandango_Stars</th>\n",
       "      <th>Fandango_Ratingvalue</th>\n",
       "      <th>RT_norm</th>\n",
       "      <th>RT_user_norm</th>\n",
       "      <th>...</th>\n",
       "      <th>RT_norm_round</th>\n",
       "      <th>RT_user_norm_round</th>\n",
       "      <th>Metacritic_norm_round</th>\n",
       "      <th>Metacritic_user_norm_round</th>\n",
       "      <th>IMDB_norm_round</th>\n",
       "      <th>Metacritic_user_vote_count</th>\n",
       "      <th>IMDB_user_vote_count</th>\n",
       "      <th>Fandango_votes</th>\n",
       "      <th>Fandango_Difference</th>\n",
       "      <th>fm_diff</th>\n",
       "    </tr>\n",
       "  </thead>\n",
       "  <tbody>\n",
       "    <tr>\n",
       "      <th>3  </th>\n",
       "      <td>  Do You Believe? (2015)</td>\n",
       "      <td> 18</td>\n",
       "      <td> 84</td>\n",
       "      <td> 22</td>\n",
       "      <td> 4.7</td>\n",
       "      <td> 5.4</td>\n",
       "      <td> 5.0</td>\n",
       "      <td> 4.5</td>\n",
       "      <td> 0.90</td>\n",
       "      <td> 4.20</td>\n",
       "      <td>...</td>\n",
       "      <td> 1.0</td>\n",
       "      <td> 4.0</td>\n",
       "      <td> 1.0</td>\n",
       "      <td> 2.5</td>\n",
       "      <td> 2.5</td>\n",
       "      <td>  31</td>\n",
       "      <td>  3136</td>\n",
       "      <td> 1793</td>\n",
       "      <td> 0.5</td>\n",
       "      <td> 4</td>\n",
       "    </tr>\n",
       "    <tr>\n",
       "      <th>85 </th>\n",
       "      <td>       Little Boy (2015)</td>\n",
       "      <td> 20</td>\n",
       "      <td> 81</td>\n",
       "      <td> 30</td>\n",
       "      <td> 5.9</td>\n",
       "      <td> 7.4</td>\n",
       "      <td> 4.5</td>\n",
       "      <td> 4.3</td>\n",
       "      <td> 1.00</td>\n",
       "      <td> 4.05</td>\n",
       "      <td>...</td>\n",
       "      <td> 1.0</td>\n",
       "      <td> 4.0</td>\n",
       "      <td> 1.5</td>\n",
       "      <td> 3.0</td>\n",
       "      <td> 3.5</td>\n",
       "      <td>  38</td>\n",
       "      <td>  5927</td>\n",
       "      <td>  811</td>\n",
       "      <td> 0.2</td>\n",
       "      <td> 3</td>\n",
       "    </tr>\n",
       "    <tr>\n",
       "      <th>47 </th>\n",
       "      <td>            Annie (2014)</td>\n",
       "      <td> 27</td>\n",
       "      <td> 61</td>\n",
       "      <td> 33</td>\n",
       "      <td> 4.8</td>\n",
       "      <td> 5.2</td>\n",
       "      <td> 4.5</td>\n",
       "      <td> 4.2</td>\n",
       "      <td> 1.35</td>\n",
       "      <td> 3.05</td>\n",
       "      <td>...</td>\n",
       "      <td> 1.5</td>\n",
       "      <td> 3.0</td>\n",
       "      <td> 1.5</td>\n",
       "      <td> 2.5</td>\n",
       "      <td> 2.5</td>\n",
       "      <td> 108</td>\n",
       "      <td> 19222</td>\n",
       "      <td> 6835</td>\n",
       "      <td> 0.3</td>\n",
       "      <td> 3</td>\n",
       "    </tr>\n",
       "    <tr>\n",
       "      <th>19 </th>\n",
       "      <td>           Pixels (2015)</td>\n",
       "      <td> 17</td>\n",
       "      <td> 54</td>\n",
       "      <td> 27</td>\n",
       "      <td> 5.3</td>\n",
       "      <td> 5.6</td>\n",
       "      <td> 4.5</td>\n",
       "      <td> 4.1</td>\n",
       "      <td> 0.85</td>\n",
       "      <td> 2.70</td>\n",
       "      <td>...</td>\n",
       "      <td> 1.0</td>\n",
       "      <td> 2.5</td>\n",
       "      <td> 1.5</td>\n",
       "      <td> 2.5</td>\n",
       "      <td> 3.0</td>\n",
       "      <td> 246</td>\n",
       "      <td> 19521</td>\n",
       "      <td> 3886</td>\n",
       "      <td> 0.4</td>\n",
       "      <td> 3</td>\n",
       "    </tr>\n",
       "    <tr>\n",
       "      <th>134</th>\n",
       "      <td> The Longest Ride (2015)</td>\n",
       "      <td> 31</td>\n",
       "      <td> 73</td>\n",
       "      <td> 33</td>\n",
       "      <td> 4.8</td>\n",
       "      <td> 7.2</td>\n",
       "      <td> 4.5</td>\n",
       "      <td> 4.5</td>\n",
       "      <td> 1.55</td>\n",
       "      <td> 3.65</td>\n",
       "      <td>...</td>\n",
       "      <td> 1.5</td>\n",
       "      <td> 3.5</td>\n",
       "      <td> 1.5</td>\n",
       "      <td> 2.5</td>\n",
       "      <td> 3.5</td>\n",
       "      <td>  49</td>\n",
       "      <td> 25214</td>\n",
       "      <td> 2603</td>\n",
       "      <td> 0.0</td>\n",
       "      <td> 3</td>\n",
       "    </tr>\n",
       "  </tbody>\n",
       "</table>\n",
       "<p>5 rows × 23 columns</p>\n",
       "</div>"
      ],
      "text/plain": [
       "                        FILM  RottenTomatoes  RottenTomatoes_User  Metacritic  \\\n",
       "3     Do You Believe? (2015)              18                   84          22   \n",
       "85         Little Boy (2015)              20                   81          30   \n",
       "47              Annie (2014)              27                   61          33   \n",
       "19             Pixels (2015)              17                   54          27   \n",
       "134  The Longest Ride (2015)              31                   73          33   \n",
       "\n",
       "     Metacritic_User  IMDB  Fandango_Stars  Fandango_Ratingvalue  RT_norm  \\\n",
       "3                4.7   5.4             5.0                   4.5     0.90   \n",
       "85               5.9   7.4             4.5                   4.3     1.00   \n",
       "47               4.8   5.2             4.5                   4.2     1.35   \n",
       "19               5.3   5.6             4.5                   4.1     0.85   \n",
       "134              4.8   7.2             4.5                   4.5     1.55   \n",
       "\n",
       "     RT_user_norm   ...     RT_norm_round  RT_user_norm_round  \\\n",
       "3            4.20   ...               1.0                 4.0   \n",
       "85           4.05   ...               1.0                 4.0   \n",
       "47           3.05   ...               1.5                 3.0   \n",
       "19           2.70   ...               1.0                 2.5   \n",
       "134          3.65   ...               1.5                 3.5   \n",
       "\n",
       "     Metacritic_norm_round  Metacritic_user_norm_round  IMDB_norm_round  \\\n",
       "3                      1.0                         2.5              2.5   \n",
       "85                     1.5                         3.0              3.5   \n",
       "47                     1.5                         2.5              2.5   \n",
       "19                     1.5                         2.5              3.0   \n",
       "134                    1.5                         2.5              3.5   \n",
       "\n",
       "     Metacritic_user_vote_count  IMDB_user_vote_count  Fandango_votes  \\\n",
       "3                            31                  3136            1793   \n",
       "85                           38                  5927             811   \n",
       "47                          108                 19222            6835   \n",
       "19                          246                 19521            3886   \n",
       "134                          49                 25214            2603   \n",
       "\n",
       "     Fandango_Difference  fm_diff  \n",
       "3                    0.5        4  \n",
       "85                   0.2        3  \n",
       "47                   0.3        3  \n",
       "19                   0.4        3  \n",
       "134                  0.0        3  \n",
       "\n",
       "[5 rows x 23 columns]"
      ]
     },
     "execution_count": 7,
     "metadata": {},
     "output_type": "execute_result"
    }
   ],
   "source": [
    "movies.sort(\"fm_diff\", ascending=False).head(5)"
   ]
  },
  {
   "cell_type": "code",
   "execution_count": 8,
   "metadata": {
    "collapsed": false
   },
   "outputs": [
    {
     "data": {
      "text/plain": [
       "0.17844919073895918"
      ]
     },
     "execution_count": 8,
     "metadata": {},
     "output_type": "execute_result"
    }
   ],
   "source": [
    "from scipy.stats import pearsonr\n",
    "r_value, p_value = pearsonr(movies[\"Fandango_Stars\"], movies[\"Metacritic_norm_round\"])\n",
    "r_value"
   ]
  },
  {
   "cell_type": "code",
   "execution_count": 9,
   "metadata": {
    "collapsed": true
   },
   "outputs": [],
   "source": [
    "from scipy.stats import linregress\n",
    "slope, intercept, r_value, p_value, stderr_slope = linregress(movies[\"Metacritic_norm_round\"], movies[\"Fandango_Stars\"])"
   ]
  },
  {
   "cell_type": "code",
   "execution_count": 10,
   "metadata": {
    "collapsed": false
   },
   "outputs": [
    {
     "data": {
      "text/plain": [
       "4.0917071528212041"
      ]
     },
     "execution_count": 10,
     "metadata": {},
     "output_type": "execute_result"
    }
   ],
   "source": [
    "pred = 3 * slope + intercept\n",
    "pred"
   ]
  },
  {
   "cell_type": "code",
   "execution_count": 11,
   "metadata": {
    "collapsed": false
   },
   "outputs": [
    {
     "data": {
      "text/plain": [
       "4.1890182307951322"
      ]
     },
     "execution_count": 11,
     "metadata": {},
     "output_type": "execute_result"
    }
   ],
   "source": [
    "4 * slope + intercept"
   ]
  },
  {
   "cell_type": "code",
   "execution_count": 17,
   "metadata": {
    "collapsed": false
   },
   "outputs": [
    {
     "data": {
      "text/plain": [
       "[<matplotlib.lines.Line2D at 0x7f9623559fd0>]"
      ]
     },
     "execution_count": 17,
     "metadata": {},
     "output_type": "execute_result"
    },
    {
     "data": {
      "image/png": "[encoded data removed]",
      "text/plain": [
       "<matplotlib.figure.Figure at 0x7f96235d3080>"
      ]
     },
     "metadata": {},
     "output_type": "display_data"
    }
   ],
   "source": [
    "x=[3.0,4.0]\n",
    "y=[pred1,pred2]\n",
    "plt.plot(x,y)"
   ]
  },
  {
   "cell_type": "markdown",
   "metadata": {},
   "source": [
    "That's it for the guided steps! We recommend exploring the data more on your own.\n",
    "\n",
    "Here are some potential next steps:\n",
    "\n",
    "Explore the other rating services, IMDB and RottenTomatoes.\n",
    "See how they differ from each other.\n",
    "See how they differ from Fandango.\n",
    "See how user scores differ from critic scores.\n",
    "Acquire more recent review data, and see if the pattern of Fandango inflating reviews persists.\n",
    "Dig more into why certain movies had their scores inflated more than others."
   ]
  },
  {
   "cell_type": "code",
   "execution_count": null,
   "metadata": {
    "collapsed": true
   },
   "outputs": [],
   "source": []
  }
 ],
 "metadata": {
  "kernelspec": {
   "display_name": "Python 3",
   "language": "python",
   "name": "python3"
  },
  "language_info": {
   "codemirror_mode": {
    "name": "ipython",
    "version": 3
   },
   "file_extension": ".py",
   "mimetype": "text/x-python",
   "name": "python",
   "nbconvert_exporter": "python",
   "pygments_lexer": "ipython3",
   "version": "3.4.3"
  }
 },
 "nbformat": 4,
 "nbformat_minor": 0
}
